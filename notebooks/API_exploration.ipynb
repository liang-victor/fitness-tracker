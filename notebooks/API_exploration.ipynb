{
 "cells": [
  {
   "cell_type": "code",
   "execution_count": null,
   "id": "fb8bb8de",
   "metadata": {},
   "outputs": [],
   "source": [
    "from stravalib.client import Client\n",
    "from prefect.blocks.system import Secret"
   ]
  },
  {
   "cell_type": "code",
   "execution_count": null,
   "id": "6cf5670e",
   "metadata": {},
   "outputs": [],
   "source": [
    "client = Client()\n",
    "\n",
    "# this requires putting your access token under this key\n",
    "client.access_token = os.environ.get(\"STRAVA_ACCESS_TOKEN\")\n",
    "\n",
    "\n",
    "\n"
   ]
  },
  {
   "cell_type": "markdown",
   "id": "8ca7db36",
   "metadata": {},
   "source": [
    "To start we can take a look at the current athlete attached to our authentication:"
   ]
  },
  {
   "cell_type": "code",
   "execution_count": null,
   "id": "12be684d",
   "metadata": {},
   "outputs": [],
   "source": [
    "current_athlete = client.get_athlete()\n",
    "\n",
    "current_athlete"
   ]
  },
  {
   "cell_type": "markdown",
   "id": "4e926602",
   "metadata": {},
   "source": [
    "This object has many unpopulated values, but it at least includes firstname, lastname and id.\n",
    "\n",
    "There are functions for the client to get friends and followers, but the API is responding that those endpoints were removed by strava in 2018."
   ]
  },
  {
   "cell_type": "code",
   "execution_count": null,
   "id": "e5fa0b87",
   "metadata": {},
   "outputs": [],
   "source": [
    "followers = client.get_athlete_followers(current_athlete.id)"
   ]
  },
  {
   "cell_type": "markdown",
   "id": "e0d14771",
   "metadata": {},
   "source": [
    "Let's have a look at fetching activities"
   ]
  },
  {
   "cell_type": "code",
   "execution_count": null,
   "id": "9cca6e2c",
   "metadata": {},
   "outputs": [],
   "source": [
    "activities = client.get_activities(after=\"2023-03-05T00:00:00Z\", limit = 5)"
   ]
  },
  {
   "cell_type": "code",
   "execution_count": null,
   "id": "c5385bcb",
   "metadata": {},
   "outputs": [],
   "source": [
    "activity = next(activities)"
   ]
  },
  {
   "cell_type": "markdown",
   "id": "ed99c80d",
   "metadata": {},
   "source": [
    "Some of the following fields..."
   ]
  },
  {
   "cell_type": "code",
   "execution_count": null,
   "id": "d8d796e5",
   "metadata": {},
   "outputs": [],
   "source": [
    "activity.type"
   ]
  },
  {
   "cell_type": "code",
   "execution_count": null,
   "id": "ce18c2a4",
   "metadata": {},
   "outputs": [],
   "source": [
    "activity.name"
   ]
  },
  {
   "cell_type": "code",
   "execution_count": null,
   "id": "32e267dc",
   "metadata": {},
   "outputs": [],
   "source": [
    "activity.upload_id"
   ]
  },
  {
   "cell_type": "code",
   "execution_count": null,
   "id": "cf1b1024",
   "metadata": {},
   "outputs": [],
   "source": [
    "activity.id"
   ]
  },
  {
   "cell_type": "code",
   "execution_count": null,
   "id": "d9079257",
   "metadata": {},
   "outputs": [],
   "source": [
    "activity.average_heartrate"
   ]
  },
  {
   "cell_type": "code",
   "execution_count": null,
   "id": "5b7c056e",
   "metadata": {},
   "outputs": [],
   "source": [
    "activity.average_speed"
   ]
  },
  {
   "cell_type": "code",
   "execution_count": null,
   "id": "f5cff040",
   "metadata": {},
   "outputs": [],
   "source": [
    "activity.related"
   ]
  },
  {
   "cell_type": "code",
   "execution_count": null,
   "id": "9709b5d3",
   "metadata": {},
   "outputs": [],
   "source": [
    "activity.athlete_count"
   ]
  },
  {
   "cell_type": "markdown",
   "id": "ced0aa64",
   "metadata": {},
   "source": [
    "It seems that the activity map is stored as a polyline... not sure yet what to do with this"
   ]
  },
  {
   "cell_type": "code",
   "execution_count": null,
   "id": "e42e295c",
   "metadata": {},
   "outputs": [],
   "source": [
    "activity_map = activity.map\n",
    "activity_map.summary_polyline"
   ]
  },
  {
   "cell_type": "markdown",
   "id": "6ea23f0f",
   "metadata": {},
   "source": [
    "Turns out what we want are the stream methods\n",
    "https://stravalib.readthedocs.io/en/latest/reference/api/stravalib.client.Client.get_activity_streams.html#stravalib.client.Client.get_activity_streams\n",
    "\n",
    "https://developers.strava.com/docs/reference/#api-Streams-getActivityStreams"
   ]
  },
  {
   "cell_type": "code",
   "execution_count": null,
   "id": "b44aa6a5",
   "metadata": {},
   "outputs": [],
   "source": [
    "activity_stream = client.get_activity_streams(activity_id=activity.id, types=[\"time\", \"latlng\", \"distance\", \"altitude\", \"velocity_smooth\", \"heartrate\", \"moving\", \"grade_smooth\"])\n",
    "activity_stream"
   ]
  },
  {
   "cell_type": "code",
   "execution_count": null,
   "id": "8e252383",
   "metadata": {},
   "outputs": [],
   "source": [
    "activity_stream['time'].to_dict()"
   ]
  },
  {
   "cell_type": "code",
   "execution_count": null,
   "id": "7bf183c2",
   "metadata": {},
   "outputs": [],
   "source": []
  }
 ],
 "metadata": {
  "kernelspec": {
   "display_name": "Python 3 (ipykernel)",
   "language": "python",
   "name": "python3"
  },
  "language_info": {
   "codemirror_mode": {
    "name": "ipython",
    "version": 3
   },
   "file_extension": ".py",
   "mimetype": "text/x-python",
   "name": "python",
   "nbconvert_exporter": "python",
   "pygments_lexer": "ipython3",
   "version": "3.11.1"
  }
 },
 "nbformat": 4,
 "nbformat_minor": 5
}
