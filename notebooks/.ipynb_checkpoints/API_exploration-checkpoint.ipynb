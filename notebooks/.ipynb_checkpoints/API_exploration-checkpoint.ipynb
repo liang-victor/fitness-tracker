{
 "cells": [
  {
   "cell_type": "code",
   "execution_count": 6,
   "id": "2e9fae6f",
   "metadata": {},
   "outputs": [],
   "source": [
    "from stravalib.client import Client\n",
    "from prefect.blocks.system import Secret"
   ]
  },
  {
   "cell_type": "code",
   "execution_count": 49,
   "id": "b2771994",
   "metadata": {},
   "outputs": [],
   "source": [
    "client = Client()\n",
    "\n",
    "# this requires putting your access token under this key\n",
    "client.access_token = os.environ.get(\"STRAVA_ACCESS_TOKEN\")\n",
    "\n",
    "\n",
    "\n"
   ]
  },
  {
   "cell_type": "markdown",
   "id": "094f01e5",
   "metadata": {},
   "source": [
    "To start we can take a look at the current athlete attached to our authentication:"
   ]
  },
  {
   "cell_type": "code",
   "execution_count": 10,
   "id": "17aa3251",
   "metadata": {},
   "outputs": [
    {
     "data": {
      "text/plain": [
       "<Athlete id=29605167 firstname='Victor' lastname='Liang'>"
      ]
     },
     "execution_count": 10,
     "metadata": {},
     "output_type": "execute_result"
    }
   ],
   "source": [
    "current_athlete = client.get_athlete()\n",
    "\n",
    "current_athlete"
   ]
  },
  {
   "cell_type": "markdown",
   "id": "f968ffc3",
   "metadata": {},
   "source": [
    "This object has many unpopulated values, but it at least includes firstname, lastname and id.\n",
    "\n",
    "There are functions for the client to get friends and followers, but the API is responding that those endpoints were removed by strava in 2018."
   ]
  },
  {
   "cell_type": "code",
   "execution_count": 22,
   "id": "4fd9878f",
   "metadata": {},
   "outputs": [
    {
     "ename": "NotImplementedError",
     "evalue": "The /athletes/{id}/followers endpoint was removed by Strava.  See https://developers.strava.com/docs/january-2018-update/",
     "output_type": "error",
     "traceback": [
      "\u001b[0;31m---------------------------------------------------------------------------\u001b[0m",
      "\u001b[0;31mNotImplementedError\u001b[0m                       Traceback (most recent call last)",
      "Cell \u001b[0;32mIn[22], line 1\u001b[0m\n\u001b[0;32m----> 1\u001b[0m followers \u001b[38;5;241m=\u001b[39m \u001b[43mclient\u001b[49m\u001b[38;5;241;43m.\u001b[39;49m\u001b[43mget_athlete_followers\u001b[49m\u001b[43m(\u001b[49m\u001b[43mcurrent_athlete\u001b[49m\u001b[38;5;241;43m.\u001b[39;49m\u001b[43mid\u001b[49m\u001b[43m)\u001b[49m\n",
      "File \u001b[0;32m~/fitness-tracker/venv/lib/python3.11/site-packages/stravalib/client.py:342\u001b[0m, in \u001b[0;36mClient.get_athlete_followers\u001b[0;34m(self, athlete_id, limit)\u001b[0m\n\u001b[1;32m    340\u001b[0m     result_fetcher \u001b[38;5;241m=\u001b[39m functools\u001b[38;5;241m.\u001b[39mpartial(\u001b[38;5;28mself\u001b[39m\u001b[38;5;241m.\u001b[39mprotocol\u001b[38;5;241m.\u001b[39mget, \u001b[38;5;124m'\u001b[39m\u001b[38;5;124m/athlete/followers\u001b[39m\u001b[38;5;124m'\u001b[39m)\n\u001b[1;32m    341\u001b[0m \u001b[38;5;28;01melse\u001b[39;00m:\n\u001b[0;32m--> 342\u001b[0m     \u001b[38;5;28;01mraise\u001b[39;00m \u001b[38;5;167;01mNotImplementedError\u001b[39;00m(\u001b[38;5;124m\"\u001b[39m\u001b[38;5;124mThe /athletes/\u001b[39m\u001b[38;5;132;01m{id}\u001b[39;00m\u001b[38;5;124m/followers endpoint was removed by Strava.  \u001b[39m\u001b[38;5;124m\"\u001b[39m\n\u001b[1;32m    343\u001b[0m                               \u001b[38;5;124m\"\u001b[39m\u001b[38;5;124mSee https://developers.strava.com/docs/january-2018-update/\u001b[39m\u001b[38;5;124m\"\u001b[39m)\n\u001b[1;32m    344\u001b[0m     \u001b[38;5;66;03m# result_fetcher = functools.partial(self.protocol.get,\u001b[39;00m\n\u001b[1;32m    345\u001b[0m     \u001b[38;5;66;03m#                                    '/athletes/{id}/followers',\u001b[39;00m\n\u001b[1;32m    346\u001b[0m     \u001b[38;5;66;03m#                                    id=athlete_id)\u001b[39;00m\n\u001b[1;32m    348\u001b[0m \u001b[38;5;28;01mreturn\u001b[39;00m BatchedResultsIterator(entity\u001b[38;5;241m=\u001b[39mmodel\u001b[38;5;241m.\u001b[39mAthlete,\n\u001b[1;32m    349\u001b[0m                               bind_client\u001b[38;5;241m=\u001b[39m\u001b[38;5;28mself\u001b[39m,\n\u001b[1;32m    350\u001b[0m                               result_fetcher\u001b[38;5;241m=\u001b[39mresult_fetcher,\n\u001b[1;32m    351\u001b[0m                               limit\u001b[38;5;241m=\u001b[39mlimit)\n",
      "\u001b[0;31mNotImplementedError\u001b[0m: The /athletes/{id}/followers endpoint was removed by Strava.  See https://developers.strava.com/docs/january-2018-update/"
     ]
    }
   ],
   "source": [
    "followers = client.get_athlete_followers(current_athlete.id)"
   ]
  },
  {
   "cell_type": "markdown",
   "id": "c0b8bab4",
   "metadata": {},
   "source": [
    "Let's have a look at fetching activities"
   ]
  },
  {
   "cell_type": "code",
   "execution_count": 59,
   "id": "304a6a01",
   "metadata": {},
   "outputs": [],
   "source": [
    "activities = client.get_activities(after=\"2023-03-05T00:00:00Z\", limit = 5)"
   ]
  },
  {
   "cell_type": "code",
   "execution_count": 60,
   "id": "e8806e79",
   "metadata": {},
   "outputs": [],
   "source": [
    "activity = next(activities)"
   ]
  },
  {
   "cell_type": "code",
   "execution_count": 61,
   "id": "c2f44e72",
   "metadata": {},
   "outputs": [
    {
     "data": {
      "text/plain": [
       "'Walk'"
      ]
     },
     "execution_count": 61,
     "metadata": {},
     "output_type": "execute_result"
    }
   ],
   "source": [
    "activity.type"
   ]
  },
  {
   "cell_type": "code",
   "execution_count": 62,
   "id": "8cd03aae",
   "metadata": {},
   "outputs": [
    {
     "data": {
      "text/plain": [
       "'Bibliothèque avec Lulu 🐕'"
      ]
     },
     "execution_count": 62,
     "metadata": {},
     "output_type": "execute_result"
    }
   ],
   "source": [
    "activity.name"
   ]
  },
  {
   "cell_type": "code",
   "execution_count": 63,
   "id": "fe4afd66",
   "metadata": {},
   "outputs": [
    {
     "data": {
      "text/plain": [
       "9309186610"
      ]
     },
     "execution_count": 63,
     "metadata": {},
     "output_type": "execute_result"
    }
   ],
   "source": [
    "activity.upload_id"
   ]
  },
  {
   "cell_type": "code",
   "execution_count": 64,
   "id": "88a068a5",
   "metadata": {},
   "outputs": [
    {
     "data": {
      "text/plain": [
       "8672291719"
      ]
     },
     "execution_count": 64,
     "metadata": {},
     "output_type": "execute_result"
    }
   ],
   "source": [
    "activity.id"
   ]
  },
  {
   "cell_type": "code",
   "execution_count": 65,
   "id": "69572ef9",
   "metadata": {},
   "outputs": [
    {
     "data": {
      "text/plain": [
       "92.5"
      ]
     },
     "execution_count": 65,
     "metadata": {},
     "output_type": "execute_result"
    }
   ],
   "source": [
    "activity.average_heartrate"
   ]
  },
  {
   "cell_type": "code",
   "execution_count": 66,
   "id": "87b4a9ee",
   "metadata": {},
   "outputs": [
    {
     "data": {
      "text/html": [
       "1.064 meter/second"
      ],
      "text/latex": [
       "$1.064\\ \\frac{\\mathrm{meter}}{\\mathrm{second}}$"
      ],
      "text/plain": [
       "<Quantity(1.064, 'meter / second')>"
      ]
     },
     "execution_count": 66,
     "metadata": {},
     "output_type": "execute_result"
    }
   ],
   "source": [
    "activity.average_speed"
   ]
  },
  {
   "cell_type": "code",
   "execution_count": 67,
   "id": "886f8031",
   "metadata": {},
   "outputs": [
    {
     "data": {
      "text/plain": [
       "[]"
      ]
     },
     "execution_count": 67,
     "metadata": {},
     "output_type": "execute_result"
    }
   ],
   "source": [
    "activity.related"
   ]
  },
  {
   "cell_type": "code",
   "execution_count": 68,
   "id": "2a87b5c6",
   "metadata": {},
   "outputs": [
    {
     "data": {
      "text/plain": [
       "1"
      ]
     },
     "execution_count": 68,
     "metadata": {},
     "output_type": "execute_result"
    }
   ],
   "source": [
    "activity.athlete_count"
   ]
  },
  {
   "cell_type": "markdown",
   "id": "6125be31",
   "metadata": {},
   "source": [
    "It seems that the activity map is stored as a polyline... not sure yet what to do with this"
   ]
  },
  {
   "cell_type": "code",
   "execution_count": 69,
   "id": "d042c105",
   "metadata": {},
   "outputs": [
    {
     "data": {
      "text/plain": [
       "'_aitGnvtmMDY?SCYOOISaAqAW_@[YIQg@u@Kg@Oc@BB?AYQAWRe@@m@JEXEHgB?o@BaAH}@?c@LqARsACAJw@J[^]J?v@TVBHDfAV?WNBHAFKVM@NFYYb@OHE@g@EKEK?AEICI@OKMCa@Je@Kc@b@[pBQtAObFBLE^@LC@@NCd@?n@NZBPEd@BD@VDPXn@vAjBx@tAYb@AHJP@N@TEL'"
      ]
     },
     "execution_count": 69,
     "metadata": {},
     "output_type": "execute_result"
    }
   ],
   "source": [
    "activity_map = activity.map\n",
    "activity_map.summary_polyline"
   ]
  },
  {
   "cell_type": "markdown",
   "id": "f95fab62",
   "metadata": {},
   "source": [
    "Turns out what we want are the stream methods\n",
    "https://stravalib.readthedocs.io/en/latest/reference/api/stravalib.client.Client.get_activity_streams.html#stravalib.client.Client.get_activity_streams\n",
    "\n",
    "https://developers.strava.com/docs/reference/#api-Streams-getActivityStreams"
   ]
  },
  {
   "cell_type": "code",
   "execution_count": 75,
   "id": "dfe3ff00",
   "metadata": {},
   "outputs": [
    {
     "data": {
      "text/plain": [
       "{'moving': <Stream type=moving resolution=high original_size=576>,\n",
       " 'latlng': <Stream type=latlng resolution=high original_size=576>,\n",
       " 'velocity_smooth': <Stream type=velocity_smooth resolution=high original_size=576>,\n",
       " 'grade_smooth': <Stream type=grade_smooth resolution=high original_size=576>,\n",
       " 'distance': <Stream type=distance resolution=high original_size=576>,\n",
       " 'altitude': <Stream type=altitude resolution=high original_size=576>,\n",
       " 'heartrate': <Stream type=heartrate resolution=high original_size=576>,\n",
       " 'time': <Stream type=time resolution=high original_size=576>}"
      ]
     },
     "execution_count": 75,
     "metadata": {},
     "output_type": "execute_result"
    }
   ],
   "source": [
    "activity_stream = client.get_activity_streams(activity_id=activity.id, types=[\"time\", \"latlng\", \"distance\", \"altitude\", \"velocity_smooth\", \"heartrate\", \"moving\", \"grade_smooth\"])\n",
    "activity_stream"
   ]
  },
  {
   "cell_type": "code",
   "execution_count": 77,
   "id": "407509af",
   "metadata": {},
   "outputs": [
    {
     "data": {
      "text/plain": [
       "{'type': 'time',\n",
       " 'data': [0,\n",
       "  1,\n",
       "  2,\n",
       "  7,\n",
       "  9,\n",
       "  14,\n",
       "  18,\n",
       "  34,\n",
       "  43,\n",
       "  45,\n",
       "  46,\n",
       "  47,\n",
       "  50,\n",
       "  59,\n",
       "  68,\n",
       "  75,\n",
       "  82,\n",
       "  87,\n",
       "  89,\n",
       "  91,\n",
       "  93,\n",
       "  100,\n",
       "  103,\n",
       "  106,\n",
       "  109,\n",
       "  125,\n",
       "  129,\n",
       "  133,\n",
       "  141,\n",
       "  148,\n",
       "  154,\n",
       "  157,\n",
       "  165,\n",
       "  182,\n",
       "  199,\n",
       "  207,\n",
       "  211,\n",
       "  219,\n",
       "  224,\n",
       "  226,\n",
       "  231,\n",
       "  232,\n",
       "  234,\n",
       "  237,\n",
       "  244,\n",
       "  245,\n",
       "  252,\n",
       "  260,\n",
       "  265,\n",
       "  270,\n",
       "  281,\n",
       "  290,\n",
       "  303,\n",
       "  315,\n",
       "  327,\n",
       "  337,\n",
       "  345,\n",
       "  357,\n",
       "  366,\n",
       "  373,\n",
       "  379,\n",
       "  383,\n",
       "  384,\n",
       "  387,\n",
       "  389,\n",
       "  404,\n",
       "  421,\n",
       "  432,\n",
       "  442,\n",
       "  449,\n",
       "  457,\n",
       "  466,\n",
       "  474,\n",
       "  482,\n",
       "  493,\n",
       "  500,\n",
       "  502,\n",
       "  511,\n",
       "  513,\n",
       "  517,\n",
       "  518,\n",
       "  528,\n",
       "  529,\n",
       "  535,\n",
       "  538,\n",
       "  540,\n",
       "  547,\n",
       "  556,\n",
       "  562,\n",
       "  569,\n",
       "  576,\n",
       "  587,\n",
       "  594,\n",
       "  595,\n",
       "  604,\n",
       "  610,\n",
       "  619,\n",
       "  632,\n",
       "  640,\n",
       "  650,\n",
       "  656,\n",
       "  658,\n",
       "  659,\n",
       "  661,\n",
       "  666,\n",
       "  668,\n",
       "  671,\n",
       "  674,\n",
       "  677,\n",
       "  679,\n",
       "  680,\n",
       "  681,\n",
       "  683,\n",
       "  690,\n",
       "  691,\n",
       "  696,\n",
       "  697,\n",
       "  698,\n",
       "  700,\n",
       "  701,\n",
       "  703,\n",
       "  710,\n",
       "  713,\n",
       "  715,\n",
       "  717,\n",
       "  719,\n",
       "  723,\n",
       "  731,\n",
       "  739,\n",
       "  748,\n",
       "  750,\n",
       "  752,\n",
       "  755,\n",
       "  762,\n",
       "  769,\n",
       "  773,\n",
       "  780,\n",
       "  788,\n",
       "  797,\n",
       "  806,\n",
       "  813,\n",
       "  814,\n",
       "  820,\n",
       "  828,\n",
       "  835,\n",
       "  837,\n",
       "  849,\n",
       "  858,\n",
       "  864,\n",
       "  869,\n",
       "  872,\n",
       "  888,\n",
       "  896,\n",
       "  901,\n",
       "  906,\n",
       "  907,\n",
       "  911,\n",
       "  914,\n",
       "  918,\n",
       "  922,\n",
       "  926,\n",
       "  927,\n",
       "  928,\n",
       "  931,\n",
       "  934,\n",
       "  935,\n",
       "  938,\n",
       "  939,\n",
       "  943,\n",
       "  944,\n",
       "  951,\n",
       "  968,\n",
       "  983,\n",
       "  985,\n",
       "  987,\n",
       "  1000,\n",
       "  1005,\n",
       "  1032,\n",
       "  1036,\n",
       "  1040,\n",
       "  1046,\n",
       "  1050,\n",
       "  1052,\n",
       "  1061,\n",
       "  1062,\n",
       "  1065,\n",
       "  1068,\n",
       "  1069,\n",
       "  1070,\n",
       "  1072,\n",
       "  1074,\n",
       "  1085,\n",
       "  1092,\n",
       "  1098,\n",
       "  1099,\n",
       "  1100,\n",
       "  1101,\n",
       "  1103,\n",
       "  1106,\n",
       "  1112,\n",
       "  1115,\n",
       "  1120,\n",
       "  1122,\n",
       "  1132,\n",
       "  1138,\n",
       "  1142,\n",
       "  1145,\n",
       "  1147,\n",
       "  1154,\n",
       "  1164,\n",
       "  1169,\n",
       "  1171,\n",
       "  1173,\n",
       "  1177,\n",
       "  1182,\n",
       "  1184,\n",
       "  1189,\n",
       "  1190,\n",
       "  1198,\n",
       "  1206,\n",
       "  1210,\n",
       "  1213,\n",
       "  1216,\n",
       "  1220,\n",
       "  1232,\n",
       "  1240,\n",
       "  1247,\n",
       "  1249,\n",
       "  1259,\n",
       "  1260,\n",
       "  1270,\n",
       "  1279,\n",
       "  1286,\n",
       "  1290,\n",
       "  1297,\n",
       "  1306,\n",
       "  1309,\n",
       "  1311,\n",
       "  1312,\n",
       "  1317,\n",
       "  1320,\n",
       "  1326,\n",
       "  1332,\n",
       "  1334,\n",
       "  1343,\n",
       "  1344,\n",
       "  1351,\n",
       "  1353,\n",
       "  1361,\n",
       "  1369,\n",
       "  1371,\n",
       "  1375,\n",
       "  1380,\n",
       "  1381,\n",
       "  1388,\n",
       "  1393,\n",
       "  1402,\n",
       "  1414,\n",
       "  1415,\n",
       "  1416,\n",
       "  1419,\n",
       "  1425,\n",
       "  1432,\n",
       "  1436,\n",
       "  1443,\n",
       "  1451,\n",
       "  1466,\n",
       "  1467,\n",
       "  1476,\n",
       "  1478,\n",
       "  1481,\n",
       "  1486,\n",
       "  1489,\n",
       "  1493,\n",
       "  1496,\n",
       "  1498,\n",
       "  1502,\n",
       "  1503,\n",
       "  1504,\n",
       "  1507,\n",
       "  1509,\n",
       "  1510,\n",
       "  1517,\n",
       "  1522,\n",
       "  1528,\n",
       "  1534,\n",
       "  1544,\n",
       "  1553,\n",
       "  1557,\n",
       "  1562,\n",
       "  1594,\n",
       "  1601,\n",
       "  1606,\n",
       "  1613,\n",
       "  1626,\n",
       "  1629,\n",
       "  1638,\n",
       "  1655,\n",
       "  1680,\n",
       "  1683,\n",
       "  1687,\n",
       "  1697,\n",
       "  1703,\n",
       "  1709,\n",
       "  1718,\n",
       "  1724,\n",
       "  1728,\n",
       "  1732,\n",
       "  1733,\n",
       "  1737,\n",
       "  1738,\n",
       "  1742,\n",
       "  1744,\n",
       "  1756,\n",
       "  1758,\n",
       "  1760,\n",
       "  1766,\n",
       "  1768,\n",
       "  1770,\n",
       "  1773,\n",
       "  1774,\n",
       "  1780,\n",
       "  1785,\n",
       "  1791,\n",
       "  1796,\n",
       "  1803,\n",
       "  1804,\n",
       "  1808,\n",
       "  1810,\n",
       "  1814,\n",
       "  1816,\n",
       "  1818,\n",
       "  1825,\n",
       "  1829,\n",
       "  1832,\n",
       "  1842,\n",
       "  1850,\n",
       "  1857,\n",
       "  1865,\n",
       "  1866,\n",
       "  1873,\n",
       "  1874,\n",
       "  1878,\n",
       "  1880,\n",
       "  1890,\n",
       "  1891,\n",
       "  1898,\n",
       "  1906,\n",
       "  1913,\n",
       "  1914,\n",
       "  1916,\n",
       "  1917,\n",
       "  1919,\n",
       "  1920,\n",
       "  1924,\n",
       "  1927,\n",
       "  1931,\n",
       "  1942,\n",
       "  1950,\n",
       "  1958,\n",
       "  1967,\n",
       "  1974,\n",
       "  1983,\n",
       "  1991,\n",
       "  1998,\n",
       "  2000,\n",
       "  2005,\n",
       "  2012,\n",
       "  2013,\n",
       "  2017,\n",
       "  2019,\n",
       "  2022,\n",
       "  2029,\n",
       "  2037,\n",
       "  2043,\n",
       "  2048,\n",
       "  2055,\n",
       "  2062,\n",
       "  2082,\n",
       "  2092,\n",
       "  2099,\n",
       "  2108,\n",
       "  2117,\n",
       "  2119,\n",
       "  2124,\n",
       "  2127,\n",
       "  2137,\n",
       "  2139,\n",
       "  2141,\n",
       "  2143,\n",
       "  2145,\n",
       "  2148,\n",
       "  2158,\n",
       "  2165,\n",
       "  2169,\n",
       "  2172,\n",
       "  2178,\n",
       "  2179,\n",
       "  2180,\n",
       "  2188,\n",
       "  2193,\n",
       "  2194,\n",
       "  2198,\n",
       "  2199,\n",
       "  2211,\n",
       "  2221,\n",
       "  2224,\n",
       "  2230,\n",
       "  2237,\n",
       "  2242,\n",
       "  2252,\n",
       "  2262,\n",
       "  2274,\n",
       "  2278,\n",
       "  2279,\n",
       "  2284,\n",
       "  2291,\n",
       "  2297,\n",
       "  2299,\n",
       "  2303,\n",
       "  2305,\n",
       "  2312,\n",
       "  2313,\n",
       "  2319,\n",
       "  2321,\n",
       "  2325,\n",
       "  2330,\n",
       "  2335,\n",
       "  2337,\n",
       "  2339,\n",
       "  2343,\n",
       "  2349,\n",
       "  2351,\n",
       "  2354,\n",
       "  2361,\n",
       "  2364,\n",
       "  2373,\n",
       "  2376,\n",
       "  2377,\n",
       "  2382,\n",
       "  2391,\n",
       "  2400,\n",
       "  2401,\n",
       "  2406,\n",
       "  2408,\n",
       "  2410,\n",
       "  2416,\n",
       "  2418,\n",
       "  2421,\n",
       "  2430,\n",
       "  2432,\n",
       "  2433,\n",
       "  2435,\n",
       "  2438,\n",
       "  2445,\n",
       "  2447,\n",
       "  2455,\n",
       "  2459,\n",
       "  2463,\n",
       "  2464,\n",
       "  2472,\n",
       "  2480,\n",
       "  2488,\n",
       "  2490,\n",
       "  2491,\n",
       "  2497,\n",
       "  2502,\n",
       "  2505,\n",
       "  2507,\n",
       "  2510,\n",
       "  2511,\n",
       "  2515,\n",
       "  2519,\n",
       "  2530,\n",
       "  2533,\n",
       "  2537,\n",
       "  2539,\n",
       "  2549,\n",
       "  2550,\n",
       "  2557,\n",
       "  2562,\n",
       "  2570,\n",
       "  2581,\n",
       "  2591,\n",
       "  2598,\n",
       "  2606,\n",
       "  2608,\n",
       "  2620,\n",
       "  2629,\n",
       "  2633,\n",
       "  2637,\n",
       "  2639,\n",
       "  2647,\n",
       "  2656,\n",
       "  2657,\n",
       "  2663,\n",
       "  2665,\n",
       "  2672,\n",
       "  2673,\n",
       "  2677,\n",
       "  2681,\n",
       "  2690,\n",
       "  2699,\n",
       "  2720,\n",
       "  2723,\n",
       "  2725,\n",
       "  2729,\n",
       "  2730,\n",
       "  2733,\n",
       "  2735,\n",
       "  2741,\n",
       "  2742,\n",
       "  2749,\n",
       "  2754,\n",
       "  2759,\n",
       "  2762,\n",
       "  2764,\n",
       "  2768,\n",
       "  2773,\n",
       "  2779,\n",
       "  2783,\n",
       "  2788,\n",
       "  2790,\n",
       "  2792,\n",
       "  2797,\n",
       "  2801,\n",
       "  2807,\n",
       "  2813,\n",
       "  2817,\n",
       "  2823,\n",
       "  2833,\n",
       "  2841,\n",
       "  2845,\n",
       "  2851,\n",
       "  2867,\n",
       "  2875,\n",
       "  2880,\n",
       "  2884,\n",
       "  2889,\n",
       "  2893,\n",
       "  2896,\n",
       "  2899,\n",
       "  2906,\n",
       "  2908,\n",
       "  2912,\n",
       "  2920,\n",
       "  2924,\n",
       "  2929,\n",
       "  2936,\n",
       "  2941,\n",
       "  2945,\n",
       "  2947,\n",
       "  2951,\n",
       "  2956,\n",
       "  2964,\n",
       "  2967,\n",
       "  2969,\n",
       "  2972,\n",
       "  2979,\n",
       "  2984,\n",
       "  2990,\n",
       "  2993,\n",
       "  3021,\n",
       "  3022,\n",
       "  3024,\n",
       "  3026,\n",
       "  3029,\n",
       "  3034,\n",
       "  3035,\n",
       "  3041,\n",
       "  3045,\n",
       "  3050,\n",
       "  3054,\n",
       "  3066,\n",
       "  3074,\n",
       "  3075],\n",
       " 'series_type': 'distance',\n",
       " 'original_size': 576,\n",
       " 'resolution': 'high',\n",
       " 'id': None,\n",
       " 'resource_state': None}"
      ]
     },
     "execution_count": 77,
     "metadata": {},
     "output_type": "execute_result"
    }
   ],
   "source": [
    "activity_stream['time'].to_dict()"
   ]
  },
  {
   "cell_type": "code",
   "execution_count": null,
   "id": "7484bae5",
   "metadata": {},
   "outputs": [],
   "source": []
  }
 ],
 "metadata": {
  "kernelspec": {
   "display_name": "Python 3 (ipykernel)",
   "language": "python",
   "name": "python3"
  },
  "language_info": {
   "codemirror_mode": {
    "name": "ipython",
    "version": 3
   },
   "file_extension": ".py",
   "mimetype": "text/x-python",
   "name": "python",
   "nbconvert_exporter": "python",
   "pygments_lexer": "ipython3",
   "version": "3.11.1"
  }
 },
 "nbformat": 4,
 "nbformat_minor": 5
}
